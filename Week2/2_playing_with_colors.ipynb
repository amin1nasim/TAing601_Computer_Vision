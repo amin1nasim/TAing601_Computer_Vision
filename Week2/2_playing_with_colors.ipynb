{
  "cells": [
    {
      "cell_type": "markdown",
      "metadata": {
        "id": "view-in-github",
        "colab_type": "text"
      },
      "source": [
        "<a href=\"https://colab.research.google.com/github/amin1nasim/TAing601_Computer_Vision/blob/main/Week2/2_playing_with_colors.ipynb\" target=\"_parent\"><img src=\"https://colab.research.google.com/assets/colab-badge.svg\" alt=\"Open In Colab\"/></a>"
      ]
    },
    {
      "cell_type": "markdown",
      "metadata": {
        "id": "wE4hRh9v5bXZ"
      },
      "source": [
        "# Images are stored as matrices of numbers in computer.\n",
        "\n",
        "### 1. Gray images\n",
        "Each image is a 2D matrix, and each element of matrix shows the brightness of a specific pixle in the image.\n",
        "\n",
        "0(Black) <= Brightness or Intensity <= 255(White).\n",
        "\n",
        "### 2. Colered images\n",
        "Colered images are made up of stacking <b>three</b> 2D matrices on top of each other. The reason for that is, nowadays, most devices use <b> <font color='red'>Red</font> <font color='green'>Green</font> <font color='blue'>Blue</font></b> standard (in short RGB). This combination is able to create almost any color (but not all of them).\n",
        "\n",
        "![Pixel](https://www.scratchapixel.com/images/color/screencloseup.png)\n",
        "\n",
        "Image reference: https://www.scratchapixel.com/lessons/digital-imaging/colors/color-space.html"
      ]
    },
    {
      "cell_type": "markdown",
      "metadata": {
        "id": "xyEku03t5bXb"
      },
      "source": [
        "### Play with colors\n",
        "Use the following interactive widget to create different colors. This should help you to get a better sense of how RGB values work to produce a color."
      ]
    },
    {
      "cell_type": "code",
      "execution_count": null,
      "metadata": {
        "colab": {
          "base_uri": "https://localhost:8080/",
          "height": 900,
          "referenced_widgets": [
            "671fa158b7b344c998435e9f2d96922f",
            "51f9cde873104a6c892552eb13480b93",
            "1027d702d7d949f3a243341f0018cd42",
            "d28da8d0df444fe5978d49e01b7433dd",
            "db8476173320438da38bf7f845d095df",
            "4a8ffb63b6134b589b2241c9afaa3d27",
            "a03707be0a7943c49310ad48cc627191",
            "252cd4ea07a748fd947115e4a0a77b94",
            "ff5c3951e2d3472b95176fdb9c91bfe8",
            "c625c968f5594754afb1c4304f2e93e5",
            "d2d4d3a450f54d4ea95a27e9bfbff0bc",
            "8ff0d83b2d6c415eba04dd78a1ffaa86",
            "20f6553dfa524ab2a31dbb80fc3cfe66"
          ]
        },
        "id": "-O5MibRq5bXb",
        "outputId": "cb12fee2-4158-4aee-dd61-c26436ed1c9d"
      },
      "outputs": [
        {
          "output_type": "display_data",
          "data": {
            "text/plain": [
              "interactive(children=(IntText(value=0, description='R:'), IntText(value=108, description='G:'), IntText(value=…"
            ],
            "application/vnd.jupyter.widget-view+json": {
              "version_major": 2,
              "version_minor": 0,
              "model_id": "671fa158b7b344c998435e9f2d96922f"
            }
          },
          "metadata": {}
        }
      ],
      "source": [
        "# PLAY WITH COLORS\n",
        "%matplotlib inline\n",
        "import numpy as np\n",
        "import matplotlib.pyplot as plt\n",
        "import matplotlib.image as mpimg\n",
        "import ipywidgets as widgets\n",
        "from IPython.display import display\n",
        "\n",
        "def update_image(R=0, G=0, B=0):\n",
        "    img_wiget[:,:,0] = R\n",
        "    img_wiget[:,:,1] = G\n",
        "    img_wiget[:,:,2] = B\n",
        "    imgplot = plt.imshow(img_wiget)\n",
        "    plt.axis(False)\n",
        "    plt.show()\n",
        "    print(img_wiget.transpose(2, 0, 1))\n",
        "    \n",
        "img_wiget = np.zeros((10,10,3), dtype=np.uint8)\n",
        "\n",
        "widget_R = widgets.IntText(min=0, max=255, value=0\n",
        "                                      , description='R:')\n",
        "widget_G = widgets.IntText(min=0, max=255, value=108\n",
        "                                      , description='G:')\n",
        "widget_B = widgets.IntText(min=0, max=255, value=230\n",
        "                                      , description='B:')\n",
        "\n",
        "widgets.interactive(update_image, R=widget_R, G=widget_G, B=widget_B)"
      ]
    },
    {
      "cell_type": "code",
      "execution_count": null,
      "metadata": {
        "id": "9lM3u5HC5bXd"
      },
      "outputs": [],
      "source": []
    }
  ],
  "metadata": {
    "kernelspec": {
      "display_name": "Python 3 (ipykernel)",
      "language": "python",
      "name": "python3"
    },
    "language_info": {
      "codemirror_mode": {
        "name": "ipython",
        "version": 3
      },
      "file_extension": ".py",
      "mimetype": "text/x-python",
      "name": "python",
      "nbconvert_exporter": "python",
      "pygments_lexer": "ipython3",
      "version": "3.9.13"
    },
    "colab": {
      "provenance": [],
      "include_colab_link": true
    },
    "widgets": {
      "application/vnd.jupyter.widget-state+json": {
        "671fa158b7b344c998435e9f2d96922f": {
          "model_module": "@jupyter-widgets/controls",
          "model_name": "VBoxModel",
          "model_module_version": "1.5.0",
          "state": {
            "_dom_classes": [
              "widget-interact"
            ],
            "_model_module": "@jupyter-widgets/controls",
            "_model_module_version": "1.5.0",
            "_model_name": "VBoxModel",
            "_view_count": null,
            "_view_module": "@jupyter-widgets/controls",
            "_view_module_version": "1.5.0",
            "_view_name": "VBoxView",
            "box_style": "",
            "children": [
              "IPY_MODEL_51f9cde873104a6c892552eb13480b93",
              "IPY_MODEL_1027d702d7d949f3a243341f0018cd42",
              "IPY_MODEL_d28da8d0df444fe5978d49e01b7433dd",
              "IPY_MODEL_db8476173320438da38bf7f845d095df"
            ],
            "layout": "IPY_MODEL_4a8ffb63b6134b589b2241c9afaa3d27"
          }
        },
        "51f9cde873104a6c892552eb13480b93": {
          "model_module": "@jupyter-widgets/controls",
          "model_name": "IntTextModel",
          "model_module_version": "1.5.0",
          "state": {
            "_dom_classes": [],
            "_model_module": "@jupyter-widgets/controls",
            "_model_module_version": "1.5.0",
            "_model_name": "IntTextModel",
            "_view_count": null,
            "_view_module": "@jupyter-widgets/controls",
            "_view_module_version": "1.5.0",
            "_view_name": "IntTextView",
            "continuous_update": false,
            "description": "R:",
            "description_tooltip": null,
            "disabled": false,
            "layout": "IPY_MODEL_a03707be0a7943c49310ad48cc627191",
            "step": 1,
            "style": "IPY_MODEL_252cd4ea07a748fd947115e4a0a77b94",
            "value": 0
          }
        },
        "1027d702d7d949f3a243341f0018cd42": {
          "model_module": "@jupyter-widgets/controls",
          "model_name": "IntTextModel",
          "model_module_version": "1.5.0",
          "state": {
            "_dom_classes": [],
            "_model_module": "@jupyter-widgets/controls",
            "_model_module_version": "1.5.0",
            "_model_name": "IntTextModel",
            "_view_count": null,
            "_view_module": "@jupyter-widgets/controls",
            "_view_module_version": "1.5.0",
            "_view_name": "IntTextView",
            "continuous_update": false,
            "description": "G:",
            "description_tooltip": null,
            "disabled": false,
            "layout": "IPY_MODEL_ff5c3951e2d3472b95176fdb9c91bfe8",
            "step": 1,
            "style": "IPY_MODEL_c625c968f5594754afb1c4304f2e93e5",
            "value": 154
          }
        },
        "d28da8d0df444fe5978d49e01b7433dd": {
          "model_module": "@jupyter-widgets/controls",
          "model_name": "IntTextModel",
          "model_module_version": "1.5.0",
          "state": {
            "_dom_classes": [],
            "_model_module": "@jupyter-widgets/controls",
            "_model_module_version": "1.5.0",
            "_model_name": "IntTextModel",
            "_view_count": null,
            "_view_module": "@jupyter-widgets/controls",
            "_view_module_version": "1.5.0",
            "_view_name": "IntTextView",
            "continuous_update": false,
            "description": "B:",
            "description_tooltip": null,
            "disabled": false,
            "layout": "IPY_MODEL_d2d4d3a450f54d4ea95a27e9bfbff0bc",
            "step": 1,
            "style": "IPY_MODEL_8ff0d83b2d6c415eba04dd78a1ffaa86",
            "value": 230
          }
        },
        "db8476173320438da38bf7f845d095df": {
          "model_module": "@jupyter-widgets/output",
          "model_name": "OutputModel",
          "model_module_version": "1.0.0",
          "state": {
            "_dom_classes": [],
            "_model_module": "@jupyter-widgets/output",
            "_model_module_version": "1.0.0",
            "_model_name": "OutputModel",
            "_view_count": null,
            "_view_module": "@jupyter-widgets/output",
            "_view_module_version": "1.0.0",
            "_view_name": "OutputView",
            "layout": "IPY_MODEL_20f6553dfa524ab2a31dbb80fc3cfe66",
            "msg_id": "",
            "outputs": [
              {
                "output_type": "display_data",
                "data": {
                  "text/plain": "<Figure size 432x288 with 1 Axes>",
                  "image/png": "iVBORw0KGgoAAAANSUhEUgAAAOcAAADnCAYAAADl9EEgAAAABHNCSVQICAgIfAhkiAAAAAlwSFlzAAALEgAACxIB0t1+/AAAADh0RVh0U29mdHdhcmUAbWF0cGxvdGxpYiB2ZXJzaW9uMy4yLjIsIGh0dHA6Ly9tYXRwbG90bGliLm9yZy+WH4yJAAAC0klEQVR4nO3YsQ3DMAwAQcvIEh4wU2XAjEEvIKQL/MVdSTVsHgS0ZuYAes6nFwD2xAlR4oQocUKUOCHq9etxfb6+cuHP5n2t3dzlhChxQpQ4IUqcECVOiBInRIkTosQJUeKEKHFClDghSpwQJU6IEidEiROixAlR4oQocUKUOCFKnBAlTogSJ0SJE6LECVHihChxQpQ4IUqcECVOiBInRIkTosQJUeKEKHFClDghSpwQJU6IEidEiROixAlR4oQocUKUOCFKnBAlTogSJ0SJE6LECVHihChxQpQ4IUqcECVOiBInRIkTosQJUeKEKHFClDghSpwQJU6IEidEiROixAlR4oQocUKUOCFKnBAlTogSJ0SJE6LECVHihChxQpQ4IUqcECVOiBInRIkTosQJUeKEKHFClDghSpwQJU6IEidEiROixAlR4oQocUKUOCFKnBAlTogSJ0SJE6LECVHihChxQpQ4IUqcECVOiBInRIkTosQJUeKEKHFClDghSpwQJU6IEidEiROixAlR4oQocUKUOCFKnBAlTogSJ0SJE6LECVHihChxQpQ4IUqcECVOiBInRIkTosQJUeKEKHFClDghSpwQJU6IEidEiROixAlR4oQocUKUOCFKnBAlTogSJ0SJE6LECVHihChxQpQ4IUqcECVOiBInRIkTosQJUeKEKHFClDghSpwQJU6IEidEiROixAlR4oQocUKUOCFKnBAlTogSJ0SJE6LECVHihChxQpQ4IUqcECVOiBInRIkTosQJUeKEKHFClDghSpwQJU6IEidEiROixAlR4oQocUKUOCFKnBAlTogSJ0SJE6LECVHihChxQpQ4IUqcECVOiBInRIkTosQJUeKEKHFClDghSpwQJU6IEidEiROixAlR4oQocUKUOCFKnBAlTogSJ0SJE6LECVHihKg1M0/vAGy4nBAlTogSJ0SJE6LECVHihKgbVC0LybkehHkAAAAASUVORK5CYII=\n"
                },
                "metadata": {
                  "needs_background": "light"
                }
              },
              {
                "output_type": "stream",
                "name": "stdout",
                "text": [
                  "[[[  0   0   0   0   0   0   0   0   0   0]\n",
                  "  [  0   0   0   0   0   0   0   0   0   0]\n",
                  "  [  0   0   0   0   0   0   0   0   0   0]\n",
                  "  [  0   0   0   0   0   0   0   0   0   0]\n",
                  "  [  0   0   0   0   0   0   0   0   0   0]\n",
                  "  [  0   0   0   0   0   0   0   0   0   0]\n",
                  "  [  0   0   0   0   0   0   0   0   0   0]\n",
                  "  [  0   0   0   0   0   0   0   0   0   0]\n",
                  "  [  0   0   0   0   0   0   0   0   0   0]\n",
                  "  [  0   0   0   0   0   0   0   0   0   0]]\n",
                  "\n",
                  " [[154 154 154 154 154 154 154 154 154 154]\n",
                  "  [154 154 154 154 154 154 154 154 154 154]\n",
                  "  [154 154 154 154 154 154 154 154 154 154]\n",
                  "  [154 154 154 154 154 154 154 154 154 154]\n",
                  "  [154 154 154 154 154 154 154 154 154 154]\n",
                  "  [154 154 154 154 154 154 154 154 154 154]\n",
                  "  [154 154 154 154 154 154 154 154 154 154]\n",
                  "  [154 154 154 154 154 154 154 154 154 154]\n",
                  "  [154 154 154 154 154 154 154 154 154 154]\n",
                  "  [154 154 154 154 154 154 154 154 154 154]]\n",
                  "\n",
                  " [[230 230 230 230 230 230 230 230 230 230]\n",
                  "  [230 230 230 230 230 230 230 230 230 230]\n",
                  "  [230 230 230 230 230 230 230 230 230 230]\n",
                  "  [230 230 230 230 230 230 230 230 230 230]\n",
                  "  [230 230 230 230 230 230 230 230 230 230]\n",
                  "  [230 230 230 230 230 230 230 230 230 230]\n",
                  "  [230 230 230 230 230 230 230 230 230 230]\n",
                  "  [230 230 230 230 230 230 230 230 230 230]\n",
                  "  [230 230 230 230 230 230 230 230 230 230]\n",
                  "  [230 230 230 230 230 230 230 230 230 230]]]\n"
                ]
              }
            ]
          }
        },
        "4a8ffb63b6134b589b2241c9afaa3d27": {
          "model_module": "@jupyter-widgets/base",
          "model_name": "LayoutModel",
          "model_module_version": "1.2.0",
          "state": {
            "_model_module": "@jupyter-widgets/base",
            "_model_module_version": "1.2.0",
            "_model_name": "LayoutModel",
            "_view_count": null,
            "_view_module": "@jupyter-widgets/base",
            "_view_module_version": "1.2.0",
            "_view_name": "LayoutView",
            "align_content": null,
            "align_items": null,
            "align_self": null,
            "border": null,
            "bottom": null,
            "display": null,
            "flex": null,
            "flex_flow": null,
            "grid_area": null,
            "grid_auto_columns": null,
            "grid_auto_flow": null,
            "grid_auto_rows": null,
            "grid_column": null,
            "grid_gap": null,
            "grid_row": null,
            "grid_template_areas": null,
            "grid_template_columns": null,
            "grid_template_rows": null,
            "height": null,
            "justify_content": null,
            "justify_items": null,
            "left": null,
            "margin": null,
            "max_height": null,
            "max_width": null,
            "min_height": null,
            "min_width": null,
            "object_fit": null,
            "object_position": null,
            "order": null,
            "overflow": null,
            "overflow_x": null,
            "overflow_y": null,
            "padding": null,
            "right": null,
            "top": null,
            "visibility": null,
            "width": null
          }
        },
        "a03707be0a7943c49310ad48cc627191": {
          "model_module": "@jupyter-widgets/base",
          "model_name": "LayoutModel",
          "model_module_version": "1.2.0",
          "state": {
            "_model_module": "@jupyter-widgets/base",
            "_model_module_version": "1.2.0",
            "_model_name": "LayoutModel",
            "_view_count": null,
            "_view_module": "@jupyter-widgets/base",
            "_view_module_version": "1.2.0",
            "_view_name": "LayoutView",
            "align_content": null,
            "align_items": null,
            "align_self": null,
            "border": null,
            "bottom": null,
            "display": null,
            "flex": null,
            "flex_flow": null,
            "grid_area": null,
            "grid_auto_columns": null,
            "grid_auto_flow": null,
            "grid_auto_rows": null,
            "grid_column": null,
            "grid_gap": null,
            "grid_row": null,
            "grid_template_areas": null,
            "grid_template_columns": null,
            "grid_template_rows": null,
            "height": null,
            "justify_content": null,
            "justify_items": null,
            "left": null,
            "margin": null,
            "max_height": null,
            "max_width": null,
            "min_height": null,
            "min_width": null,
            "object_fit": null,
            "object_position": null,
            "order": null,
            "overflow": null,
            "overflow_x": null,
            "overflow_y": null,
            "padding": null,
            "right": null,
            "top": null,
            "visibility": null,
            "width": null
          }
        },
        "252cd4ea07a748fd947115e4a0a77b94": {
          "model_module": "@jupyter-widgets/controls",
          "model_name": "DescriptionStyleModel",
          "model_module_version": "1.5.0",
          "state": {
            "_model_module": "@jupyter-widgets/controls",
            "_model_module_version": "1.5.0",
            "_model_name": "DescriptionStyleModel",
            "_view_count": null,
            "_view_module": "@jupyter-widgets/base",
            "_view_module_version": "1.2.0",
            "_view_name": "StyleView",
            "description_width": ""
          }
        },
        "ff5c3951e2d3472b95176fdb9c91bfe8": {
          "model_module": "@jupyter-widgets/base",
          "model_name": "LayoutModel",
          "model_module_version": "1.2.0",
          "state": {
            "_model_module": "@jupyter-widgets/base",
            "_model_module_version": "1.2.0",
            "_model_name": "LayoutModel",
            "_view_count": null,
            "_view_module": "@jupyter-widgets/base",
            "_view_module_version": "1.2.0",
            "_view_name": "LayoutView",
            "align_content": null,
            "align_items": null,
            "align_self": null,
            "border": null,
            "bottom": null,
            "display": null,
            "flex": null,
            "flex_flow": null,
            "grid_area": null,
            "grid_auto_columns": null,
            "grid_auto_flow": null,
            "grid_auto_rows": null,
            "grid_column": null,
            "grid_gap": null,
            "grid_row": null,
            "grid_template_areas": null,
            "grid_template_columns": null,
            "grid_template_rows": null,
            "height": null,
            "justify_content": null,
            "justify_items": null,
            "left": null,
            "margin": null,
            "max_height": null,
            "max_width": null,
            "min_height": null,
            "min_width": null,
            "object_fit": null,
            "object_position": null,
            "order": null,
            "overflow": null,
            "overflow_x": null,
            "overflow_y": null,
            "padding": null,
            "right": null,
            "top": null,
            "visibility": null,
            "width": null
          }
        },
        "c625c968f5594754afb1c4304f2e93e5": {
          "model_module": "@jupyter-widgets/controls",
          "model_name": "DescriptionStyleModel",
          "model_module_version": "1.5.0",
          "state": {
            "_model_module": "@jupyter-widgets/controls",
            "_model_module_version": "1.5.0",
            "_model_name": "DescriptionStyleModel",
            "_view_count": null,
            "_view_module": "@jupyter-widgets/base",
            "_view_module_version": "1.2.0",
            "_view_name": "StyleView",
            "description_width": ""
          }
        },
        "d2d4d3a450f54d4ea95a27e9bfbff0bc": {
          "model_module": "@jupyter-widgets/base",
          "model_name": "LayoutModel",
          "model_module_version": "1.2.0",
          "state": {
            "_model_module": "@jupyter-widgets/base",
            "_model_module_version": "1.2.0",
            "_model_name": "LayoutModel",
            "_view_count": null,
            "_view_module": "@jupyter-widgets/base",
            "_view_module_version": "1.2.0",
            "_view_name": "LayoutView",
            "align_content": null,
            "align_items": null,
            "align_self": null,
            "border": null,
            "bottom": null,
            "display": null,
            "flex": null,
            "flex_flow": null,
            "grid_area": null,
            "grid_auto_columns": null,
            "grid_auto_flow": null,
            "grid_auto_rows": null,
            "grid_column": null,
            "grid_gap": null,
            "grid_row": null,
            "grid_template_areas": null,
            "grid_template_columns": null,
            "grid_template_rows": null,
            "height": null,
            "justify_content": null,
            "justify_items": null,
            "left": null,
            "margin": null,
            "max_height": null,
            "max_width": null,
            "min_height": null,
            "min_width": null,
            "object_fit": null,
            "object_position": null,
            "order": null,
            "overflow": null,
            "overflow_x": null,
            "overflow_y": null,
            "padding": null,
            "right": null,
            "top": null,
            "visibility": null,
            "width": null
          }
        },
        "8ff0d83b2d6c415eba04dd78a1ffaa86": {
          "model_module": "@jupyter-widgets/controls",
          "model_name": "DescriptionStyleModel",
          "model_module_version": "1.5.0",
          "state": {
            "_model_module": "@jupyter-widgets/controls",
            "_model_module_version": "1.5.0",
            "_model_name": "DescriptionStyleModel",
            "_view_count": null,
            "_view_module": "@jupyter-widgets/base",
            "_view_module_version": "1.2.0",
            "_view_name": "StyleView",
            "description_width": ""
          }
        },
        "20f6553dfa524ab2a31dbb80fc3cfe66": {
          "model_module": "@jupyter-widgets/base",
          "model_name": "LayoutModel",
          "model_module_version": "1.2.0",
          "state": {
            "_model_module": "@jupyter-widgets/base",
            "_model_module_version": "1.2.0",
            "_model_name": "LayoutModel",
            "_view_count": null,
            "_view_module": "@jupyter-widgets/base",
            "_view_module_version": "1.2.0",
            "_view_name": "LayoutView",
            "align_content": null,
            "align_items": null,
            "align_self": null,
            "border": null,
            "bottom": null,
            "display": null,
            "flex": null,
            "flex_flow": null,
            "grid_area": null,
            "grid_auto_columns": null,
            "grid_auto_flow": null,
            "grid_auto_rows": null,
            "grid_column": null,
            "grid_gap": null,
            "grid_row": null,
            "grid_template_areas": null,
            "grid_template_columns": null,
            "grid_template_rows": null,
            "height": null,
            "justify_content": null,
            "justify_items": null,
            "left": null,
            "margin": null,
            "max_height": null,
            "max_width": null,
            "min_height": null,
            "min_width": null,
            "object_fit": null,
            "object_position": null,
            "order": null,
            "overflow": null,
            "overflow_x": null,
            "overflow_y": null,
            "padding": null,
            "right": null,
            "top": null,
            "visibility": null,
            "width": null
          }
        }
      }
    }
  },
  "nbformat": 4,
  "nbformat_minor": 0
}