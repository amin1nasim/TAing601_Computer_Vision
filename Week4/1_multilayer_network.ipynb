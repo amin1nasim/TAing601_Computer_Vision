{
  "cells": [
    {
      "cell_type": "markdown",
      "metadata": {
        "id": "view-in-github",
        "colab_type": "text"
      },
      "source": [
        "<a href=\"https://colab.research.google.com/github/amin1nasim/TAing601_Computer_Vision/blob/main/Week4/1_multilayer_network.ipynb\" target=\"_parent\"><img src=\"https://colab.research.google.com/assets/colab-badge.svg\" alt=\"Open In Colab\"/></a>"
      ]
    },
    {
      "cell_type": "code",
      "execution_count": null,
      "id": "aa5d990b",
      "metadata": {
        "id": "aa5d990b"
      },
      "outputs": [],
      "source": [
        "import numpy as np\n",
        "import matplotlib\n",
        "import matplotlib.pyplot as plt"
      ]
    },
    {
      "cell_type": "code",
      "execution_count": null,
      "id": "7092c191",
      "metadata": {
        "id": "7092c191"
      },
      "outputs": [],
      "source": [
        "x_domain, y_domain = np.meshgrid(np.arange(0, 10.1, 0.05), np.arange(0,10, 0.05))\n",
        "x_point, y_poiny = np.array([0, 5, 10]), np.array([0, 7, 3])\n",
        "\n",
        "def color_contour(fn):\n",
        "    plt.figure(figsize=(7, 7))\n",
        "    plt.xlim((x_domain.min(), x_domain.max()))\n",
        "    plt.ylim((y_domain.min(), y_domain.max()))\n",
        "    plt.ylabel('Awesomeness of the party')\n",
        "    plt.xlabel('Work load')\n",
        "    cmap = matplotlib.colors.ListedColormap([\"gold\", \"indigo\"])\n",
        "    plt.contourf(x_domain, y_domain, fn(x_domain,y_domain)>0.5, cmap=cmap)"
      ]
    },
    {
      "cell_type": "code",
      "execution_count": null,
      "id": "5ead4a5b",
      "metadata": {
        "id": "5ead4a5b"
      },
      "outputs": [],
      "source": [
        "def sigmoid(x):\n",
        "    return 1/(1+np.exp(-x))"
      ]
    },
    {
      "cell_type": "code",
      "execution_count": null,
      "id": "6ca1de93",
      "metadata": {
        "id": "6ca1de93",
        "outputId": "ef4a4884-a0f2-4b74-996d-b60f0b577572"
      },
      "outputs": [
        {
          "data": {
            "image/png": "[encoded data removed]",
            "text/plain": [
              "<Figure size 504x504 with 1 Axes>"
            ]
          },
          "metadata": {
            "needs_background": "light"
          },
          "output_type": "display_data"
        }
      ],
      "source": [
        "neuron_1 = lambda x, y: sigmoid(-x + y)\n",
        "color_contour(neuron_1)"
      ]
    },
    {
      "cell_type": "markdown",
      "id": "b74b1851",
      "metadata": {
        "id": "b74b1851"
      },
      "source": [
        "![Neuron 1](neuron1.png)"
      ]
    },
    {
      "cell_type": "code",
      "execution_count": null,
      "id": "b94ed308",
      "metadata": {
        "id": "b94ed308",
        "outputId": "0a77b397-9682-411a-8fa0-e91472f17e47"
      },
      "outputs": [
        {
          "data": {
            "image/png": "[encoded data removed]",
            "text/plain": [
              "<Figure size 504x504 with 1 Axes>"
            ]
          },
          "metadata": {
            "needs_background": "light"
          },
          "output_type": "display_data"
        }
      ],
      "source": [
        "neuron_2 = lambda x, y: sigmoid(-0.5*x + 3*y - 7)\n",
        "color_contour(neuron_2)"
      ]
    },
    {
      "cell_type": "markdown",
      "id": "99422b2f",
      "metadata": {
        "id": "99422b2f"
      },
      "source": [
        "![Neuron 2](neuron2.png)"
      ]
    },
    {
      "cell_type": "code",
      "execution_count": null,
      "id": "3afbcb1e",
      "metadata": {
        "id": "3afbcb1e",
        "outputId": "0c062165-2f1f-40b9-9905-97a52f652b90"
      },
      "outputs": [
        {
          "data": {
            "image/png": "[encoded data removed]",
            "text/plain": [
              "<Figure size 504x504 with 1 Axes>"
            ]
          },
          "metadata": {
            "needs_background": "light"
          },
          "output_type": "display_data"
        }
      ],
      "source": [
        "neuron_final = lambda x, y: sigmoid(0.7*(neuron_1(x, y)-0.5)  + 0.5*(neuron_2(x, y)-0.5)) \n",
        "color_contour(neuron_final)"
      ]
    },
    {
      "cell_type": "markdown",
      "id": "2e199aca",
      "metadata": {
        "id": "2e199aca"
      },
      "source": [
        "![Final output](all_together.png)"
      ]
    },
    {
      "cell_type": "code",
      "execution_count": null,
      "id": "c10320c0",
      "metadata": {
        "id": "c10320c0"
      },
      "outputs": [],
      "source": []
    }
  ],
  "metadata": {
    "kernelspec": {
      "display_name": "Python 3 (ipykernel)",
      "language": "python",
      "name": "python3"
    },
    "language_info": {
      "codemirror_mode": {
        "name": "ipython",
        "version": 3
      },
      "file_extension": ".py",
      "mimetype": "text/x-python",
      "name": "python",
      "nbconvert_exporter": "python",
      "pygments_lexer": "ipython3",
      "version": "3.9.9"
    },
    "colab": {
      "provenance": [],
      "include_colab_link": true
    }
  },
  "nbformat": 4,
  "nbformat_minor": 5
}